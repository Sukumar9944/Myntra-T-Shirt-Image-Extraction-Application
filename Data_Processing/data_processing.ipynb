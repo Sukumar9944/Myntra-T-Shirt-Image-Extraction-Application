{
 "cells": [
  {
   "cell_type": "code",
   "execution_count": 464,
   "metadata": {},
   "outputs": [],
   "source": [
    "import pandas as pd\n",
    "import re"
   ]
  },
  {
   "cell_type": "code",
   "execution_count": 465,
   "metadata": {},
   "outputs": [
    {
     "name": "stdout",
     "output_type": "stream",
     "text": [
      "(998, 8)\n"
     ]
    }
   ],
   "source": [
    "df = pd.read_csv(r'F:\\GUVI_DATA_SCIENCE\\Project\\Myntra-T-Shirt-Image-Extraction-Application\\Datasets\\myntra_dataset.csv')\n",
    "print(df.shape)"
   ]
  },
  {
   "cell_type": "code",
   "execution_count": 466,
   "metadata": {},
   "outputs": [
    {
     "data": {
      "text/html": [
       "<div>\n",
       "<style scoped>\n",
       "    .dataframe tbody tr th:only-of-type {\n",
       "        vertical-align: middle;\n",
       "    }\n",
       "\n",
       "    .dataframe tbody tr th {\n",
       "        vertical-align: top;\n",
       "    }\n",
       "\n",
       "    .dataframe thead th {\n",
       "        text-align: right;\n",
       "    }\n",
       "</style>\n",
       "<table border=\"1\" class=\"dataframe\">\n",
       "  <thead>\n",
       "    <tr style=\"text-align: right;\">\n",
       "      <th></th>\n",
       "      <th>brand</th>\n",
       "      <th>desc</th>\n",
       "      <th>overall_rating</th>\n",
       "      <th>rating_count</th>\n",
       "      <th>original_price</th>\n",
       "      <th>discount_price</th>\n",
       "      <th>offer_percentage</th>\n",
       "      <th>image_url</th>\n",
       "    </tr>\n",
       "  </thead>\n",
       "  <tbody>\n",
       "    <tr>\n",
       "      <th>5</th>\n",
       "      <td>Roadster</td>\n",
       "      <td>Men Charcoal Melange Graphic Printed T-shirt</td>\n",
       "      <td>4.1\\n|\\n29.8k Ratings</td>\n",
       "      <td>29.8k Ratings</td>\n",
       "      <td>MRP ₹699</td>\n",
       "      <td>₹216</td>\n",
       "      <td>(69% OFF)</td>\n",
       "      <td>background-image: url(\"https://assets.myntasse...</td>\n",
       "    </tr>\n",
       "  </tbody>\n",
       "</table>\n",
       "</div>"
      ],
      "text/plain": [
       "      brand                                          desc  \\\n",
       "5  Roadster  Men Charcoal Melange Graphic Printed T-shirt   \n",
       "\n",
       "          overall_rating   rating_count original_price discount_price  \\\n",
       "5  4.1\\n|\\n29.8k Ratings  29.8k Ratings       MRP ₹699           ₹216   \n",
       "\n",
       "  offer_percentage                                          image_url  \n",
       "5        (69% OFF)  background-image: url(\"https://assets.myntasse...  "
      ]
     },
     "execution_count": 466,
     "metadata": {},
     "output_type": "execute_result"
    }
   ],
   "source": [
    "df.sample()"
   ]
  },
  {
   "cell_type": "code",
   "execution_count": 467,
   "metadata": {},
   "outputs": [
    {
     "data": {
      "text/plain": [
       "brand               0\n",
       "desc                0\n",
       "overall_rating      0\n",
       "rating_count        0\n",
       "original_price      0\n",
       "discount_price      0\n",
       "offer_percentage    0\n",
       "image_url           0\n",
       "dtype: int64"
      ]
     },
     "execution_count": 467,
     "metadata": {},
     "output_type": "execute_result"
    }
   ],
   "source": [
    "# Checking for null values\n",
    "df.isnull().sum()"
   ]
  },
  {
   "cell_type": "code",
   "execution_count": 468,
   "metadata": {},
   "outputs": [
    {
     "data": {
      "text/html": [
       "<div>\n",
       "<style scoped>\n",
       "    .dataframe tbody tr th:only-of-type {\n",
       "        vertical-align: middle;\n",
       "    }\n",
       "\n",
       "    .dataframe tbody tr th {\n",
       "        vertical-align: top;\n",
       "    }\n",
       "\n",
       "    .dataframe thead th {\n",
       "        text-align: right;\n",
       "    }\n",
       "</style>\n",
       "<table border=\"1\" class=\"dataframe\">\n",
       "  <thead>\n",
       "    <tr style=\"text-align: right;\">\n",
       "      <th></th>\n",
       "      <th>brand</th>\n",
       "      <th>desc</th>\n",
       "      <th>overall_rating</th>\n",
       "      <th>rating_count</th>\n",
       "      <th>original_price</th>\n",
       "      <th>discount_price</th>\n",
       "      <th>offer_percentage</th>\n",
       "      <th>image_url</th>\n",
       "    </tr>\n",
       "  </thead>\n",
       "  <tbody>\n",
       "    <tr>\n",
       "      <th>0</th>\n",
       "      <td>Roadster</td>\n",
       "      <td>Men Grey Melange &amp; Black Colourblocked T-shirt</td>\n",
       "      <td>4\\n|\\n10.7k Ratings</td>\n",
       "      <td>10.7k Ratings</td>\n",
       "      <td>MRP ₹699</td>\n",
       "      <td>₹202</td>\n",
       "      <td>(71% OFF)</td>\n",
       "      <td>background-image: url(\"https://assets.myntasse...</td>\n",
       "    </tr>\n",
       "    <tr>\n",
       "      <th>1</th>\n",
       "      <td>Roadster</td>\n",
       "      <td>Men Green White Colourblocked Round Neck Pure ...</td>\n",
       "      <td>4.2\\n|\\n3.2k Ratings</td>\n",
       "      <td>3.2k Ratings</td>\n",
       "      <td>MRP ₹699</td>\n",
       "      <td>₹209</td>\n",
       "      <td>(70% OFF)</td>\n",
       "      <td>background-image: url(\"https://assets.myntasse...</td>\n",
       "    </tr>\n",
       "    <tr>\n",
       "      <th>2</th>\n",
       "      <td>Roadster</td>\n",
       "      <td>Men Navy Solid Round Neck T-shirt</td>\n",
       "      <td>4\\n|\\n16.9k Ratings</td>\n",
       "      <td>16.9k Ratings</td>\n",
       "      <td>MRP ₹499</td>\n",
       "      <td>₹194</td>\n",
       "      <td>(61% OFF)</td>\n",
       "      <td>background-image: url(\"https://assets.myntasse...</td>\n",
       "    </tr>\n",
       "    <tr>\n",
       "      <th>3</th>\n",
       "      <td>Roadster</td>\n",
       "      <td>Men White Mustard Yellow Colourblocked Round N...</td>\n",
       "      <td>4.2\\n|\\n3.2k Ratings</td>\n",
       "      <td>3.2k Ratings</td>\n",
       "      <td>MRP ₹999</td>\n",
       "      <td>₹299</td>\n",
       "      <td>(70% OFF)</td>\n",
       "      <td>background-image: url(\"https://assets.myntasse...</td>\n",
       "    </tr>\n",
       "    <tr>\n",
       "      <th>4</th>\n",
       "      <td>Roadster</td>\n",
       "      <td>Men Off White Melange Solid Round Neck Regular...</td>\n",
       "      <td>4\\n|\\n9.6k Ratings</td>\n",
       "      <td>9.6k Ratings</td>\n",
       "      <td>MRP ₹499</td>\n",
       "      <td>₹199</td>\n",
       "      <td>( 60 % OFF)</td>\n",
       "      <td>background-image: url(\"https://assets.myntasse...</td>\n",
       "    </tr>\n",
       "    <tr>\n",
       "      <th>...</th>\n",
       "      <td>...</td>\n",
       "      <td>...</td>\n",
       "      <td>...</td>\n",
       "      <td>...</td>\n",
       "      <td>...</td>\n",
       "      <td>...</td>\n",
       "      <td>...</td>\n",
       "      <td>...</td>\n",
       "    </tr>\n",
       "    <tr>\n",
       "      <th>713</th>\n",
       "      <td>Tommy Hilfiger</td>\n",
       "      <td>Pure Cotton Brand Logo Printed Casual T-shirt</td>\n",
       "      <td>4.8\\n|\\n6 Ratings</td>\n",
       "      <td>6 Ratings</td>\n",
       "      <td>MRP ₹2499</td>\n",
       "      <td>₹1999</td>\n",
       "      <td>(20% OFF)</td>\n",
       "      <td>background-image: url(\"https://assets.myntasse...</td>\n",
       "    </tr>\n",
       "    <tr>\n",
       "      <th>714</th>\n",
       "      <td>Tommy Hilfiger</td>\n",
       "      <td>Men Brand Logo Printed Pure Cotton T-shirt</td>\n",
       "      <td>4.6\\n|\\n8 Ratings</td>\n",
       "      <td>8 Ratings</td>\n",
       "      <td>MRP ₹3599</td>\n",
       "      <td>₹1799</td>\n",
       "      <td>(50% OFF)</td>\n",
       "      <td>background-image: url(\"https://assets.myntasse...</td>\n",
       "    </tr>\n",
       "    <tr>\n",
       "      <th>715</th>\n",
       "      <td>Tommy Hilfiger</td>\n",
       "      <td>Men Pure Cotton Solid T-shirt With Chest Pocket</td>\n",
       "      <td>3.9\\n|\\n10 Ratings</td>\n",
       "      <td>10 Ratings</td>\n",
       "      <td>MRP ₹2499</td>\n",
       "      <td>₹1499</td>\n",
       "      <td>(40% OFF)</td>\n",
       "      <td>background-image: url(\"https://assets.myntasse...</td>\n",
       "    </tr>\n",
       "    <tr>\n",
       "      <th>716</th>\n",
       "      <td>Tommy Hilfiger</td>\n",
       "      <td>Brand Logo Printed Pure Cotton T-shirt</td>\n",
       "      <td>3.7\\n|\\n6 Ratings</td>\n",
       "      <td>6 Ratings</td>\n",
       "      <td>MRP ₹2399</td>\n",
       "      <td>₹1799</td>\n",
       "      <td>(25% OFF)</td>\n",
       "      <td>background-image: url(\"https://assets.myntasse...</td>\n",
       "    </tr>\n",
       "    <tr>\n",
       "      <th>717</th>\n",
       "      <td>Tommy Hilfiger</td>\n",
       "      <td>Brand Logo Embroidered Pure Cotton T-shirt</td>\n",
       "      <td>4\\n|\\n5 Ratings</td>\n",
       "      <td>5 Ratings</td>\n",
       "      <td>MRP ₹2399</td>\n",
       "      <td>₹1799</td>\n",
       "      <td>(25% OFF)</td>\n",
       "      <td>background-image: url(\"https://assets.myntasse...</td>\n",
       "    </tr>\n",
       "  </tbody>\n",
       "</table>\n",
       "<p>718 rows × 8 columns</p>\n",
       "</div>"
      ],
      "text/plain": [
       "              brand                                               desc  \\\n",
       "0          Roadster     Men Grey Melange & Black Colourblocked T-shirt   \n",
       "1          Roadster  Men Green White Colourblocked Round Neck Pure ...   \n",
       "2          Roadster                  Men Navy Solid Round Neck T-shirt   \n",
       "3          Roadster  Men White Mustard Yellow Colourblocked Round N...   \n",
       "4          Roadster  Men Off White Melange Solid Round Neck Regular...   \n",
       "..              ...                                                ...   \n",
       "713  Tommy Hilfiger      Pure Cotton Brand Logo Printed Casual T-shirt   \n",
       "714  Tommy Hilfiger         Men Brand Logo Printed Pure Cotton T-shirt   \n",
       "715  Tommy Hilfiger    Men Pure Cotton Solid T-shirt With Chest Pocket   \n",
       "716  Tommy Hilfiger             Brand Logo Printed Pure Cotton T-shirt   \n",
       "717  Tommy Hilfiger         Brand Logo Embroidered Pure Cotton T-shirt   \n",
       "\n",
       "           overall_rating   rating_count original_price discount_price  \\\n",
       "0     4\\n|\\n10.7k Ratings  10.7k Ratings       MRP ₹699           ₹202   \n",
       "1    4.2\\n|\\n3.2k Ratings   3.2k Ratings       MRP ₹699           ₹209   \n",
       "2     4\\n|\\n16.9k Ratings  16.9k Ratings       MRP ₹499           ₹194   \n",
       "3    4.2\\n|\\n3.2k Ratings   3.2k Ratings       MRP ₹999           ₹299   \n",
       "4      4\\n|\\n9.6k Ratings   9.6k Ratings       MRP ₹499           ₹199   \n",
       "..                    ...            ...            ...            ...   \n",
       "713     4.8\\n|\\n6 Ratings      6 Ratings      MRP ₹2499          ₹1999   \n",
       "714     4.6\\n|\\n8 Ratings      8 Ratings      MRP ₹3599          ₹1799   \n",
       "715    3.9\\n|\\n10 Ratings     10 Ratings      MRP ₹2499          ₹1499   \n",
       "716     3.7\\n|\\n6 Ratings      6 Ratings      MRP ₹2399          ₹1799   \n",
       "717       4\\n|\\n5 Ratings      5 Ratings      MRP ₹2399          ₹1799   \n",
       "\n",
       "    offer_percentage                                          image_url  \n",
       "0          (71% OFF)  background-image: url(\"https://assets.myntasse...  \n",
       "1          (70% OFF)  background-image: url(\"https://assets.myntasse...  \n",
       "2          (61% OFF)  background-image: url(\"https://assets.myntasse...  \n",
       "3          (70% OFF)  background-image: url(\"https://assets.myntasse...  \n",
       "4        ( 60 % OFF)  background-image: url(\"https://assets.myntasse...  \n",
       "..               ...                                                ...  \n",
       "713        (20% OFF)  background-image: url(\"https://assets.myntasse...  \n",
       "714        (50% OFF)  background-image: url(\"https://assets.myntasse...  \n",
       "715        (40% OFF)  background-image: url(\"https://assets.myntasse...  \n",
       "716        (25% OFF)  background-image: url(\"https://assets.myntasse...  \n",
       "717        (25% OFF)  background-image: url(\"https://assets.myntasse...  \n",
       "\n",
       "[718 rows x 8 columns]"
      ]
     },
     "execution_count": 468,
     "metadata": {},
     "output_type": "execute_result"
    }
   ],
   "source": [
    "query_df = df.query(\"overall_rating != 'Nil' and rating_count != 'Nil'\").reset_index(drop = True)\n",
    "query_df"
   ]
  },
  {
   "cell_type": "code",
   "execution_count": 469,
   "metadata": {},
   "outputs": [
    {
     "data": {
      "text/plain": [
       "(718, 8)"
      ]
     },
     "execution_count": 469,
     "metadata": {},
     "output_type": "execute_result"
    }
   ],
   "source": [
    "query_df.shape"
   ]
  },
  {
   "cell_type": "code",
   "execution_count": 470,
   "metadata": {},
   "outputs": [
    {
     "data": {
      "text/plain": [
       "43"
      ]
     },
     "execution_count": 470,
     "metadata": {},
     "output_type": "execute_result"
    }
   ],
   "source": [
    "# Checking for duplicates\n",
    "query_df.duplicated().sum()"
   ]
  },
  {
   "cell_type": "code",
   "execution_count": 471,
   "metadata": {},
   "outputs": [
    {
     "data": {
      "text/plain": [
       "0"
      ]
     },
     "execution_count": 471,
     "metadata": {},
     "output_type": "execute_result"
    }
   ],
   "source": [
    "new_df = query_df.drop_duplicates()\n",
    "new_df.duplicated().sum()"
   ]
  },
  {
   "cell_type": "code",
   "execution_count": 472,
   "metadata": {},
   "outputs": [],
   "source": [
    "# Text processing\n",
    "\n",
    "def overall_rating(i):\n",
    "    if i[1] == '.':\n",
    "        rating = i[:3]\n",
    "        return float(rating)\n",
    "    else:\n",
    "        rating = i[0]\n",
    "        return float(rating)\n",
    "\n",
    "\n",
    "def rating_count(i):\n",
    "    count = re.sub(r'[Ratings]', '',i)\n",
    "    return count\n",
    "\n",
    "\n",
    "def multiply_thousands(i):\n",
    "    if 'k' in i:\n",
    "        count = float(i.replace('k',''))\n",
    "        return count*1000\n",
    "\n",
    "    else:\n",
    "        return float(i)\n",
    "\n",
    "\n",
    "def original_price(i):\n",
    "    org_price = re.sub('MRP ₹|Rs. ', '', i)\n",
    "    return float(org_price)\n",
    "\n",
    "\n",
    "def discount_price(i):\n",
    "    dis_price = re.sub('₹|Rs. ', '', i)\n",
    "    return float(dis_price)\n",
    "\n",
    "\n",
    "def offer_percentage(i):\n",
    "    off_percent = re.sub(r'[OFF%()]', '',i)\n",
    "    return off_percent\n",
    "\n",
    "\n",
    "def image_url(i):\n",
    "    url = i[23:len(i)-3]\n",
    "    return url\n"
   ]
  },
  {
   "cell_type": "code",
   "execution_count": 473,
   "metadata": {},
   "outputs": [
    {
     "name": "stderr",
     "output_type": "stream",
     "text": [
      "C:\\Users\\Sukumar\\AppData\\Local\\Temp\\ipykernel_9480\\1957761679.py:1: SettingWithCopyWarning: \n",
      "A value is trying to be set on a copy of a slice from a DataFrame.\n",
      "Try using .loc[row_indexer,col_indexer] = value instead\n",
      "\n",
      "See the caveats in the documentation: https://pandas.pydata.org/pandas-docs/stable/user_guide/indexing.html#returning-a-view-versus-a-copy\n",
      "  new_df['overall_rating'] = new_df['overall_rating'].apply(overall_rating)\n",
      "C:\\Users\\Sukumar\\AppData\\Local\\Temp\\ipykernel_9480\\1957761679.py:3: SettingWithCopyWarning: \n",
      "A value is trying to be set on a copy of a slice from a DataFrame.\n",
      "Try using .loc[row_indexer,col_indexer] = value instead\n",
      "\n",
      "See the caveats in the documentation: https://pandas.pydata.org/pandas-docs/stable/user_guide/indexing.html#returning-a-view-versus-a-copy\n",
      "  new_df['rating_count'] = new_df['rating_count'].apply(rating_count)\n",
      "C:\\Users\\Sukumar\\AppData\\Local\\Temp\\ipykernel_9480\\1957761679.py:5: SettingWithCopyWarning: \n",
      "A value is trying to be set on a copy of a slice from a DataFrame.\n",
      "Try using .loc[row_indexer,col_indexer] = value instead\n",
      "\n",
      "See the caveats in the documentation: https://pandas.pydata.org/pandas-docs/stable/user_guide/indexing.html#returning-a-view-versus-a-copy\n",
      "  new_df['rating_count']  = new_df['rating_count'].apply(multiply_thousands)\n",
      "C:\\Users\\Sukumar\\AppData\\Local\\Temp\\ipykernel_9480\\1957761679.py:7: SettingWithCopyWarning: \n",
      "A value is trying to be set on a copy of a slice from a DataFrame.\n",
      "Try using .loc[row_indexer,col_indexer] = value instead\n",
      "\n",
      "See the caveats in the documentation: https://pandas.pydata.org/pandas-docs/stable/user_guide/indexing.html#returning-a-view-versus-a-copy\n",
      "  new_df['original_price'] = new_df['original_price'].apply(original_price)\n",
      "C:\\Users\\Sukumar\\AppData\\Local\\Temp\\ipykernel_9480\\1957761679.py:9: SettingWithCopyWarning: \n",
      "A value is trying to be set on a copy of a slice from a DataFrame.\n",
      "Try using .loc[row_indexer,col_indexer] = value instead\n",
      "\n",
      "See the caveats in the documentation: https://pandas.pydata.org/pandas-docs/stable/user_guide/indexing.html#returning-a-view-versus-a-copy\n",
      "  new_df['discount_price'] = new_df['discount_price'].apply(discount_price)\n",
      "C:\\Users\\Sukumar\\AppData\\Local\\Temp\\ipykernel_9480\\1957761679.py:11: SettingWithCopyWarning: \n",
      "A value is trying to be set on a copy of a slice from a DataFrame.\n",
      "Try using .loc[row_indexer,col_indexer] = value instead\n",
      "\n",
      "See the caveats in the documentation: https://pandas.pydata.org/pandas-docs/stable/user_guide/indexing.html#returning-a-view-versus-a-copy\n",
      "  new_df['offer_percentage'] = new_df['offer_percentage'].apply(offer_percentage)\n",
      "C:\\Users\\Sukumar\\AppData\\Local\\Temp\\ipykernel_9480\\1957761679.py:13: SettingWithCopyWarning: \n",
      "A value is trying to be set on a copy of a slice from a DataFrame.\n",
      "Try using .loc[row_indexer,col_indexer] = value instead\n",
      "\n",
      "See the caveats in the documentation: https://pandas.pydata.org/pandas-docs/stable/user_guide/indexing.html#returning-a-view-versus-a-copy\n",
      "  new_df['image_url'] = new_df['image_url'].apply(image_url)\n"
     ]
    }
   ],
   "source": [
    "new_df['overall_rating'] = new_df['overall_rating'].apply(overall_rating)\n",
    "\n",
    "new_df['rating_count'] = new_df['rating_count'].apply(rating_count)\n",
    "\n",
    "new_df['rating_count']  = new_df['rating_count'].apply(multiply_thousands)\n",
    "\n",
    "new_df['original_price'] = new_df['original_price'].apply(original_price)\n",
    "\n",
    "new_df['discount_price'] = new_df['discount_price'].apply(discount_price)\n",
    "\n",
    "new_df['offer_percentage'] = new_df['offer_percentage'].apply(offer_percentage)\n",
    "\n",
    "new_df['image_url'] = new_df['image_url'].apply(image_url)"
   ]
  },
  {
   "cell_type": "code",
   "execution_count": 474,
   "metadata": {},
   "outputs": [
    {
     "name": "stderr",
     "output_type": "stream",
     "text": [
      "C:\\Users\\Sukumar\\AppData\\Local\\Temp\\ipykernel_9480\\182033283.py:1: SettingWithCopyWarning: \n",
      "A value is trying to be set on a copy of a slice from a DataFrame\n",
      "\n",
      "See the caveats in the documentation: https://pandas.pydata.org/pandas-docs/stable/user_guide/indexing.html#returning-a-view-versus-a-copy\n",
      "  new_df.rename(columns = {'desc':'description', 'original_price':'original_price(Rs)', 'discount_price':'discount_price(Rs)', 'offer_percentage':'offer_percentage(%)'}, inplace = True)\n"
     ]
    }
   ],
   "source": [
    "new_df.rename(columns = {'desc':'description', 'original_price':'original_price(Rs)', 'discount_price':'discount_price(Rs)', 'offer_percentage':'offer_percentage(%)'}, inplace = True)"
   ]
  },
  {
   "cell_type": "code",
   "execution_count": 475,
   "metadata": {},
   "outputs": [
    {
     "name": "stdout",
     "output_type": "stream",
     "text": [
      "<class 'pandas.core.frame.DataFrame'>\n",
      "Index: 675 entries, 0 to 717\n",
      "Data columns (total 8 columns):\n",
      " #   Column               Non-Null Count  Dtype  \n",
      "---  ------               --------------  -----  \n",
      " 0   brand                675 non-null    object \n",
      " 1   description          675 non-null    object \n",
      " 2   overall_rating       675 non-null    float64\n",
      " 3   rating_count         675 non-null    float64\n",
      " 4   original_price(Rs)   675 non-null    float64\n",
      " 5   discount_price(Rs)   675 non-null    float64\n",
      " 6   offer_percentage(%)  675 non-null    object \n",
      " 7   image_url            675 non-null    object \n",
      "dtypes: float64(4), object(4)\n",
      "memory usage: 47.5+ KB\n"
     ]
    }
   ],
   "source": [
    "new_df.info()"
   ]
  },
  {
   "cell_type": "code",
   "execution_count": 476,
   "metadata": {},
   "outputs": [],
   "source": [
    "new_df.to_csv(r'F:\\GUVI_DATA_SCIENCE\\Project\\Myntra-T-Shirt-Image-Extraction-Application\\Datasets\\myntra_processed_dataset.csv', index = False)"
   ]
  }
 ],
 "metadata": {
  "kernelspec": {
   "display_name": "env",
   "language": "python",
   "name": "python3"
  },
  "language_info": {
   "codemirror_mode": {
    "name": "ipython",
    "version": 3
   },
   "file_extension": ".py",
   "mimetype": "text/x-python",
   "name": "python",
   "nbconvert_exporter": "python",
   "pygments_lexer": "ipython3",
   "version": "3.11.3"
  }
 },
 "nbformat": 4,
 "nbformat_minor": 2
}
